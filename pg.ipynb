{
 "cells": [
  {
   "cell_type": "markdown",
   "metadata": {},
   "source": [
    "# Test multiple tags"
   ]
  },
  {
   "cell_type": "code",
   "execution_count": 6,
   "metadata": {},
   "outputs": [
    {
     "data": {
      "text/html": [
       "<div>\n",
       "<style scoped>\n",
       "    .dataframe tbody tr th:only-of-type {\n",
       "        vertical-align: middle;\n",
       "    }\n",
       "\n",
       "    .dataframe tbody tr th {\n",
       "        vertical-align: top;\n",
       "    }\n",
       "\n",
       "    .dataframe thead th {\n",
       "        text-align: right;\n",
       "    }\n",
       "</style>\n",
       "<table border=\"1\" class=\"dataframe\">\n",
       "  <thead>\n",
       "    <tr style=\"text-align: right;\">\n",
       "      <th></th>\n",
       "      <th>Long URL</th>\n",
       "      <th>Tags</th>\n",
       "      <th>domain</th>\n",
       "    </tr>\n",
       "  </thead>\n",
       "  <tbody>\n",
       "    <tr>\n",
       "      <th>0</th>\n",
       "      <td>https://github.com/19920513/www/blob/master/RE...</td>\n",
       "      <td>[newtag, qr]</td>\n",
       "      <td>x.200088.xyz</td>\n",
       "    </tr>\n",
       "    <tr>\n",
       "      <th>1</th>\n",
       "      <td>https://github.com/19920513/www/blob/master/RE...</td>\n",
       "      <td>[abc, qr]</td>\n",
       "      <td>0.200089.xyz</td>\n",
       "    </tr>\n",
       "    <tr>\n",
       "      <th>2</th>\n",
       "      <td>https://github.com/19920513/www/blob/master/RE...</td>\n",
       "      <td>[3t, noqr]</td>\n",
       "      <td>F.200219.xyz</td>\n",
       "    </tr>\n",
       "  </tbody>\n",
       "</table>\n",
       "</div>"
      ],
      "text/plain": [
       "                                            Long URL          Tags  \\\n",
       "0  https://github.com/19920513/www/blob/master/RE...  [newtag, qr]   \n",
       "1  https://github.com/19920513/www/blob/master/RE...     [abc, qr]   \n",
       "2  https://github.com/19920513/www/blob/master/RE...    [3t, noqr]   \n",
       "\n",
       "         domain  \n",
       "0  x.200088.xyz  \n",
       "1  0.200089.xyz  \n",
       "2  F.200219.xyz  "
      ]
     },
     "execution_count": 6,
     "metadata": {},
     "output_type": "execute_result"
    }
   ],
   "source": [
    "import pandas as pd\n",
    "from domainHelper import generate_full_domains\n",
    "from config import VALID_DOMAIN_TLCT\n",
    "\n",
    "df=pd.read_csv('templateCSV2tag.csv')\n",
    "urls = df['Long URL'].tolist()\n",
    "domainsList= generate_full_domains(valid_domains=VALID_DOMAIN_TLCT,prefixLen=1,times=len(df))\n",
    "tags_list = df['Tags'].apply(lambda tags: tags.split(',')).tolist()\n",
    "df['domain']=domainsList\n",
    "df['Tags']=tags_list\n",
    "df"
   ]
  },
  {
   "cell_type": "markdown",
   "metadata": {},
   "source": [
    "# Nginx Proxy Manager helper"
   ]
  },
  {
   "cell_type": "code",
   "execution_count": null,
   "metadata": {},
   "outputs": [],
   "source": [
    "from config import *\n",
    "\n",
    "s=''\n",
    "for _ in VALID_DOMAIN:\n",
    "   print(f'*.{_} ')\n",
    "   \n"
   ]
  },
  {
   "cell_type": "markdown",
   "metadata": {},
   "source": [
    "# Delete URL API"
   ]
  },
  {
   "cell_type": "code",
   "execution_count": null,
   "metadata": {},
   "outputs": [],
   "source": [
    "import streamlit as st\n",
    "import requests\n",
    "import pandas as pd\n",
    "import concurrent.futures\n",
    "import time\n",
    "from config import VALID_DOMAIN\n",
    "from domainHelper import generate_full_domains\n",
    "\n",
    "def delete_url(api_key, domain, short_url):\n",
    "    url = 'https://130592.xyz/rest/v3/short-urls'\n",
    "    # url = 'https://250499.xyz/rest/v3/short-urls'\n",
    "    headers = {\n",
    "        'accept': 'application/problem+json',\n",
    "        'X-Api-Key': api_key,\n",
    "        'Content-Type': 'application/json'\n",
    "    }\n",
    "    data={\n",
    "        'shortCode':short_url,\n",
    "        'domain': 'q.250499.xyz'\n",
    "    }\n",
    "    response = requests.delete(f'{url}/{short_url}', headers=headers,json=data)\n",
    "\n",
    "    if response.status_code == 204:\n",
    "        return response.json()['shortUrl']\n",
    "    else:\n",
    "        return f\"Error: {response.status_code} - {response.text}\"\n",
    "    \n",
    "api_key = '9d5c4ffd-8885-4809-afef-dfb30b8f3e46'\n",
    "crawlable = True\n",
    "forward_query = True\n",
    "short_code_length = 6\n",
    "domain = 'q.250499.xyz'\n",
    "\n",
    "delete_url(api_key=api_key,domain=domain,short_url='Ld5XFm')"
   ]
  }
 ],
 "metadata": {
  "kernelspec": {
   "display_name": "Python 3",
   "language": "python",
   "name": "python3"
  },
  "language_info": {
   "codemirror_mode": {
    "name": "ipython",
    "version": 3
   },
   "file_extension": ".py",
   "mimetype": "text/x-python",
   "name": "python",
   "nbconvert_exporter": "python",
   "pygments_lexer": "ipython3",
   "version": "3.11.0"
  },
  "orig_nbformat": 4
 },
 "nbformat": 4,
 "nbformat_minor": 2
}
