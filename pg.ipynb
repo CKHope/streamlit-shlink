{
 "cells": [
  {
   "cell_type": "markdown",
   "metadata": {},
   "source": [
    "# Test multiple tags"
   ]
  },
  {
   "cell_type": "code",
   "execution_count": 2,
   "metadata": {},
   "outputs": [
    {
     "name": "stdout",
     "output_type": "stream",
     "text": [
      "                                             Long URL  \\\n",
      "0   https://github.com/19920513/www/blob/master/RE...   \n",
      "1   https://github.com/19920513/www/blob/master/RE...   \n",
      "2   https://github.com/19920513/www/blob/master/RE...   \n",
      "3   https://github.com/19920513/www/blob/master/RE...   \n",
      "4   https://github.com/19920513/www/blob/master/RE...   \n",
      "..                                                ...   \n",
      "66  https://github.com/19920513/ntdtv/blob/master/...   \n",
      "67  https://github.com/19920513/ntdtv/blob/master/...   \n",
      "68  https://github.com/19920513/ntdtv/blob/master/...   \n",
      "69  https://github.com/19920513/ntdtv/blob/master/...   \n",
      "70  https://github.com/19920513/ntdtv/blob/master/...   \n",
      "\n",
      "                              Tags customSlug      domain  \n",
      "0   [all, 300823, tlct, webctcbth]   RiAKAIx1  200088.xyz  \n",
      "1   [all, 300823, tlct, webctcbth]   cccxiFx2  200089.xyz  \n",
      "2   [all, 300823, tlct, webctcbth]   nNnKSUx3  200219.xyz  \n",
      "3   [all, 300823, tlct, webctcbth]   JZDUi2x4  200288.xyz  \n",
      "4   [all, 300823, tlct, webctcbth]   fwAPE9x5  200384.xyz  \n",
      "..                             ...        ...         ...  \n",
      "66      [all, 300823, qr, pthqdkd]  ONFr3zx67  200688.xyz  \n",
      "67      [all, 300823, qr, pthqdkd]  ty9W4Ax68  200793.xyz  \n",
      "68      [all, 300823, qr, pthqdkd]  gMEhz4x69  200869.xyz  \n",
      "69      [all, 300823, qr, pthqdkd]  AbBWplx70  200921.xyz  \n",
      "70      [all, 300823, qr, pthqdkd]  MqS2XSx71  200088.xyz  \n",
      "\n",
      "[71 rows x 4 columns]\n"
     ]
    }
   ],
   "source": [
    "import pandas as pd\n",
    "from domainHelper import generate_full_domains,get_domains\n",
    "from config import VALID_DOMAIN_TLCT\n",
    "\n",
    "df=pd.read_csv('300823.csv')\n",
    "urls = df['Long URL'].tolist()\n",
    "domainsList= get_domains(valid_domains=VALID_DOMAIN_TLCT,times=len(df))\n",
    "tags_list = df['Tags'].apply(lambda tags: tags.split(',')).tolist()\n",
    "customSlugList=df['customSlug'].tolist()\n",
    "df['domain']=domainsList\n",
    "df['Tags']=tags_list\n",
    "print(df.head(80))"
   ]
  },
  {
   "cell_type": "markdown",
   "metadata": {},
   "source": [
    "# Nginx Proxy Manager helper"
   ]
  },
  {
   "cell_type": "code",
   "execution_count": null,
   "metadata": {},
   "outputs": [],
   "source": [
    "from config import *\n",
    "\n",
    "s=''\n",
    "for _ in VALID_DOMAIN:\n",
    "   print(f'*.{_} ')\n",
    "   \n"
   ]
  },
  {
   "cell_type": "markdown",
   "metadata": {},
   "source": [
    "# Delete URL API"
   ]
  },
  {
   "cell_type": "code",
   "execution_count": null,
   "metadata": {},
   "outputs": [],
   "source": [
    "import streamlit as st\n",
    "import requests\n",
    "import pandas as pd\n",
    "import concurrent.futures\n",
    "import time\n",
    "from config import VALID_DOMAIN\n",
    "from domainHelper import generate_full_domains\n",
    "\n",
    "def delete_url(api_key, domain, short_url):\n",
    "    url = 'https://130592.xyz/rest/v3/short-urls'\n",
    "    # url = 'https://250499.xyz/rest/v3/short-urls'\n",
    "    headers = {\n",
    "        'accept': 'application/problem+json',\n",
    "        'X-Api-Key': api_key,\n",
    "        'Content-Type': 'application/json'\n",
    "    }\n",
    "    data={\n",
    "        'shortCode':short_url,\n",
    "        'domain': 'q.250499.xyz'\n",
    "    }\n",
    "    response = requests.delete(f'{url}/{short_url}', headers=headers,json=data)\n",
    "\n",
    "    if response.status_code == 204:\n",
    "        return response.json()['shortUrl']\n",
    "    else:\n",
    "        return f\"Error: {response.status_code} - {response.text}\"\n",
    "    \n",
    "api_key = '9d5c4ffd-8885-4809-afef-dfb30b8f3e46'\n",
    "crawlable = True\n",
    "forward_query = True\n",
    "short_code_length = 6\n",
    "domain = 'q.250499.xyz'\n",
    "\n",
    "delete_url(api_key=api_key,domain=domain,short_url='Ld5XFm')"
   ]
  }
 ],
 "metadata": {
  "kernelspec": {
   "display_name": "Python 3",
   "language": "python",
   "name": "python3"
  },
  "language_info": {
   "codemirror_mode": {
    "name": "ipython",
    "version": 3
   },
   "file_extension": ".py",
   "mimetype": "text/x-python",
   "name": "python",
   "nbconvert_exporter": "python",
   "pygments_lexer": "ipython3",
   "version": "3.11.0"
  },
  "orig_nbformat": 4
 },
 "nbformat": 4,
 "nbformat_minor": 2
}
