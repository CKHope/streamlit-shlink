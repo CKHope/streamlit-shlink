{
 "cells": [
  {
   "cell_type": "markdown",
   "metadata": {},
   "source": [
    "# Nginx Proxy Manager helper"
   ]
  },
  {
   "cell_type": "code",
   "execution_count": 24,
   "metadata": {},
   "outputs": [
    {
     "name": "stdout",
     "output_type": "stream",
     "text": [
      "*.jiudu.homes \n",
      "*.250499.xyz \n",
      "*.200799.xyz \n",
      "*.131291.xyz \n",
      "*.051215.xyz \n",
      "*.112931.xyz \n",
      "*.329790.xyz \n",
      "*.587079.xyz \n",
      "*.738586.xyz \n",
      "*.340137.xyz \n",
      "*.967884.xyz \n",
      "*.477140.xyz \n",
      "*.135168.xyz \n",
      "*.073244.xyz \n",
      "*.369811.xyz \n",
      "*.130592.xyz \n"
     ]
    }
   ],
   "source": [
    "from config import *\n",
    "\n",
    "s=''\n",
    "for _ in VALID_DOMAIN:\n",
    "   print(f'*.{_} ')\n",
    "   \n"
   ]
  }
 ],
 "metadata": {
  "kernelspec": {
   "display_name": "Python 3",
   "language": "python",
   "name": "python3"
  },
  "language_info": {
   "codemirror_mode": {
    "name": "ipython",
    "version": 3
   },
   "file_extension": ".py",
   "mimetype": "text/x-python",
   "name": "python",
   "nbconvert_exporter": "python",
   "pygments_lexer": "ipython3",
   "version": "3.11.0"
  },
  "orig_nbformat": 4
 },
 "nbformat": 4,
 "nbformat_minor": 2
}
